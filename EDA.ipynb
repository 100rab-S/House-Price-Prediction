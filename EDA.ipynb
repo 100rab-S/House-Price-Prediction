{
  "nbformat": 4,
  "nbformat_minor": 0,
  "metadata": {
    "colab": {
      "name": "EDA.ipynb",
      "provenance": [],
      "collapsed_sections": [
        "FihOuG9f40y0",
        "2SZZnC3yMpTm"
      ],
      "mount_file_id": "1gpZcqj4qfyF19Iu8M11Ig7zQ0jeMVIjY",
      "authorship_tag": "ABX9TyPAs7Y0hO8YoqiWuMw5EVxq",
      "include_colab_link": true
    },
    "kernelspec": {
      "name": "python3",
      "display_name": "Python 3"
    }
  },
  "cells": [
    {
      "cell_type": "markdown",
      "metadata": {
        "id": "view-in-github",
        "colab_type": "text"
      },
      "source": [
        "<a href=\"https://colab.research.google.com/github/100rab-S/House-Price-Prediction/blob/master/EDA.ipynb\" target=\"_parent\"><img src=\"https://colab.research.google.com/assets/colab-badge.svg\" alt=\"Open In Colab\"/></a>"
      ]
    },
    {
      "cell_type": "markdown",
      "metadata": {
        "id": "lLGfleU8L4jD"
      },
      "source": [
        "### EDA"
      ]
    },
    {
      "cell_type": "markdown",
      "metadata": {
        "id": "VgGlJHELL4IM"
      },
      "source": [
        "## Import modules and data."
      ]
    },
    {
      "cell_type": "code",
      "metadata": {
        "id": "HpXfRpL9dGw9",
        "outputId": "f0b7736a-d21d-4584-ff09-1894b14aea0e",
        "colab": {
          "base_uri": "https://localhost:8080/",
          "height": 71
        }
      },
      "source": [
        "import math\n",
        "import pandas as pd\n",
        "import numpy as np\n",
        "import matplotlib.pyplot as plt\n",
        "import seaborn as sns\n",
        "import missingno as msno\n",
        "\n",
        "pd.set_option('display.max_columns', None)  # to display all rows and columns while printing.\n",
        "pd.set_option('display.max_rows', None)  \n",
        "pd.set_option('display.max_colwidth', -1)\n",
        "\n",
        "plt.style.use(\"dark_background\") # to change the default values of plt to our interest.\n",
        "params = {'legend.fontsize': '15',\n",
        "         'axes.labelsize': 'x-large',\n",
        "         'axes.titlesize':'x-large',\n",
        "         'xtick.labelsize':'x-large',\n",
        "         'ytick.labelsize':'x-large'}\n",
        "plt.rcParams.update(params)\n",
        "plt.rcParams['figure.figsize'] = 24, 14\n",
        "\n",
        "plt.rcParams[\"image.cmap\"] = \"Set1\"\n",
        "# to change default color cycle\n",
        "plt.rcParams['axes.prop_cycle'] = plt.cycler(color=plt.cm.Set1.colors)\n",
        "\n",
        "#plt.rcParams.keys() can be used to see all the parameters related to a plot."
      ],
      "execution_count": null,
      "outputs": [
        {
          "output_type": "stream",
          "text": [
            "/usr/local/lib/python3.6/dist-packages/ipykernel_launcher.py:10: FutureWarning: Passing a negative integer is deprecated in version 1.0 and will not be supported in future version. Instead, use None to not limit the column width.\n",
            "  # Remove the CWD from sys.path while we load stuff.\n"
          ],
          "name": "stderr"
        }
      ]
    },
    {
      "cell_type": "markdown",
      "metadata": {
        "id": "tUOG9_1mpcPb"
      },
      "source": [
        "missingno functions:\n",
        "msno.matrix(data), \n",
        "msno.bar(data), \n",
        "msno.heatmap(data), "
      ]
    },
    {
      "cell_type": "code",
      "metadata": {
        "id": "xUlBO-15zvJY"
      },
      "source": [
        "# import pandas_profiling   to have a overview of data like EDA. there is some error dont know.\n",
        "# pandas_profiling.ProfileReport(TEST)"
      ],
      "execution_count": null,
      "outputs": []
    },
    {
      "cell_type": "code",
      "metadata": {
        "id": "399Wn4AxC-50"
      },
      "source": [
        "train = pd.read_csv('/content/drive/My Drive/Kaggle/House price prediction using advanced regression/Data/train.csv')\n",
        "TEST = pd.read_csv('/content/drive/My Drive/Kaggle/House price prediction using advanced regression/Data/test.csv')"
      ],
      "execution_count": null,
      "outputs": []
    },
    {
      "cell_type": "code",
      "metadata": {
        "id": "SG77qXJ65hPr"
      },
      "source": [
        "Id = TEST.Id"
      ],
      "execution_count": null,
      "outputs": []
    },
    {
      "cell_type": "code",
      "metadata": {
        "id": "M3Ctfd5obXlj",
        "outputId": "7f09a298-e42c-470a-b50c-838db3c800ea",
        "colab": {
          "base_uri": "https://localhost:8080/",
          "height": 34
        }
      },
      "source": [
        "print(f'train size: {train.shape}, test size: {TEST.shape}')"
      ],
      "execution_count": null,
      "outputs": [
        {
          "output_type": "stream",
          "text": [
            "train size: (1460, 81), test size: (1459, 80)\n"
          ],
          "name": "stdout"
        }
      ]
    },
    {
      "cell_type": "markdown",
      "metadata": {
        "id": "FihOuG9f40y0"
      },
      "source": [
        "## SweetViz"
      ]
    },
    {
      "cell_type": "code",
      "metadata": {
        "id": "wfhBEqOqyAcn"
      },
      "source": [
        "# !pip install sweetviz"
      ],
      "execution_count": null,
      "outputs": []
    },
    {
      "cell_type": "code",
      "metadata": {
        "id": "M8MKpqQDyRP3"
      },
      "source": [
        "# import sweetviz as sw "
      ],
      "execution_count": null,
      "outputs": []
    },
    {
      "cell_type": "code",
      "metadata": {
        "id": "5gyG_VRFyZ_u"
      },
      "source": [
        "# my_report = sw.compare([train, \"Train\"], [TEST, \"Test\"], \"SalePrice\")"
      ],
      "execution_count": null,
      "outputs": []
    },
    {
      "cell_type": "markdown",
      "metadata": {
        "id": "9021SGFe5Auq"
      },
      "source": [
        "To display the report, first download the report and\n",
        "then later open it in a browser."
      ]
    },
    {
      "cell_type": "markdown",
      "metadata": {
        "id": "kdB32ARDcsJZ"
      },
      "source": [
        "## Beginnig operation."
      ]
    },
    {
      "cell_type": "code",
      "metadata": {
        "id": "IucUOTs2GPT2"
      },
      "source": [
        "def lower_case_column_names(df): # function to lowercase column names.\n",
        "  df.columns = df.columns.str.lower()\n",
        "  return df\n",
        "\n",
        "train = lower_case_column_names(train)\n",
        "TEST = lower_case_column_names(TEST)"
      ],
      "execution_count": null,
      "outputs": []
    },
    {
      "cell_type": "code",
      "metadata": {
        "id": "oFDNDw570Ewo"
      },
      "source": [
        "def lower_case_column_values(df): # function to lowercase dataframe values.\n",
        "    #df = df.apply(lambda x : x.astype(str).str.lower())\n",
        "    df = df.applymap(lambda x : x.lower() if type(x) == str else x)\n",
        "    return df\n",
        "\n",
        "train = lower_case_column_values(train)\n",
        "TEST = lower_case_column_values(TEST)"
      ],
      "execution_count": null,
      "outputs": []
    },
    {
      "cell_type": "code",
      "metadata": {
        "id": "Cpca-TX_Kszu"
      },
      "source": [
        "def removeId(df): # function to remove 'id' column since it is unique in every row.\n",
        "    df = df.drop('id', axis = 1)\n",
        "\n",
        "    return df\n",
        "\n",
        "train = removeId(train)\n",
        "TEST = removeId(TEST)"
      ],
      "execution_count": null,
      "outputs": []
    },
    {
      "cell_type": "code",
      "metadata": {
        "id": "L4FslifdB3LF",
        "outputId": "a7620354-b1d7-40c0-c183-1c7df2253660",
        "colab": {
          "base_uri": "https://localhost:8080/",
          "height": 153
        }
      },
      "source": [
        "catcol = ['mssubclass', 'mszoning', 'street', 'alley', 'lotshape', 'landcontour', 'utilities', 'lotconfig',\n",
        "          'landslope', 'neighborhood', 'condition1', 'condition2', 'bldgtype', 'housestyle',\n",
        "          'overallqual', 'overallcond', 'yearbuilt', 'yearremodadd', 'roofstyle', 'roofmatl', 'exterior1st', 'exterior2nd',\n",
        "          'masvnrtype', 'exterqual', 'extercond', 'foundation', 'bsmtqual', 'bsmtcond', 'bsmtexposure',\n",
        "          'bsmtfintype1', 'bsmtfintype2', 'heating', 'heatingqc', 'centralair', 'electrical', 'bsmtfullbath',\n",
        "          'bsmthalfbath', 'fullbath', 'halfbath', 'bedroomabvgr', 'kitchenabvgr', 'kitchenqual',\n",
        "          'totrmsabvgrd', 'functional', 'fireplaces', 'fireplacequ', 'garagetype', 'garageyrblt', 'garagefinish',\n",
        "          'garagecars', 'garagequal', 'garagecond', 'paveddrive', 'poolqc', 'fence', 'miscfeature', 'mosold',\n",
        "          'yrsold', 'saletype', 'salecondition']\n",
        "\n",
        "numcol = ['lotfrontage', 'lotarea', 'masvnrarea', 'bsmtfinsf1', 'bsmtfinsf2', 'bsmtunfsf',\n",
        "          'totalbsmtsf', '1stflrsf', '2ndflrsf', 'lowqualfinsf', 'grlivarea', 'garagearea',\n",
        "          'wooddecksf', 'openporchsf', 'enclosedporch', '3ssnporch', 'screenporch', 'poolarea',\n",
        "          'miscval', 'saleprice']\n",
        "\n",
        "nominalcol = ['lotshape', 'utilities', 'yearbuilt',\n",
        "          'landcontour', 'lotconfig', 'landslope', 'neighborhood',\n",
        "          'condition1', 'condition2',\n",
        "          'yearremodadd', 'roofstyle', 'roofmatl', 'exterior1st',\n",
        "          'exterior2nd', 'masvnrtype', 'foundation', 'heating',\n",
        "          'electrical', 'functional', 'garagetype', 'garageyrblt', 'paveddrive',\n",
        "          'miscfeature', 'saletype','salecondition', 'mosold', 'yrsold']\n",
        "                 \n",
        "ordinalcol = ['mssubclass', 'mszoning', 'street', 'alley', 'bldgtype', 'housestyle',\n",
        "          'overallqual', 'overallcond', 'exterqual', 'extercond',\n",
        "          'bsmtqual', 'bsmtcond', 'bsmtexposure', 'bsmtfintype1',\n",
        "          'bsmtfintype2', 'heatingqc', 'centralair', 'kitchenqual',\n",
        "          'fireplacequ', 'garagefinish', 'garagequal', 'garagecond',\n",
        "          'poolqc', 'fence', 'bsmtfullbath', 'bsmthalfbath', 'fullbath',\n",
        "          'halfbath', 'bedroomabvgr', 'kitchenabvgr', 'totrmsabvgrd',\n",
        "          'fireplaces', 'garagecars']\n",
        "\n",
        "\n",
        "\n",
        "# bincol = ['street', 'centralair']\n",
        "\n",
        "# time = ['yearbuilt', 'yearremodadd', 'garageyrblt', 'mosold', 'yrsold']\n",
        "\n",
        "print(len(catcol) + len(numcol))\n",
        "\n",
        "print(f'categorical: {len(catcol)}')\n",
        "print(f'nominalcol: {len(nominalcol)}')\n",
        "print(f'ordinalcol: {len(ordinalcol)}')\n",
        "print(f'numerical: {len(numcol)}')\n",
        "# print(f'binary: {len(bincol)}')\n",
        "# print(f'Time: {len(time)}')\n",
        "\n",
        "print(\"======================\")\n",
        "print(f'Train shape: {train.shape}')\n",
        "print(f'Test shape: {TEST.shape}')"
      ],
      "execution_count": null,
      "outputs": [
        {
          "output_type": "stream",
          "text": [
            "80\n",
            "categorical: 60\n",
            "nominalcol: 27\n",
            "ordinalcol: 33\n",
            "numerical: 20\n",
            "======================\n",
            "Train shape: (1460, 80)\n",
            "Test shape: (1459, 79)\n"
          ],
          "name": "stdout"
        }
      ]
    },
    {
      "cell_type": "markdown",
      "metadata": {
        "id": "5GljWmlThDmH"
      },
      "source": [
        "## Imputing missing values."
      ]
    },
    {
      "cell_type": "code",
      "metadata": {
        "id": "WHV6ZWoQAwLP"
      },
      "source": [
        "msno.matrix(train)"
      ],
      "execution_count": null,
      "outputs": []
    },
    {
      "cell_type": "code",
      "metadata": {
        "id": "ZYNpjFk6l0NR"
      },
      "source": [
        "msno.matrix(TEST)"
      ],
      "execution_count": null,
      "outputs": []
    },
    {
      "cell_type": "code",
      "metadata": {
        "id": "hiAPdPnpA00j"
      },
      "source": [
        "msno.heatmap(train)"
      ],
      "execution_count": null,
      "outputs": []
    },
    {
      "cell_type": "code",
      "metadata": {
        "id": "x7QCcxJimNcg"
      },
      "source": [
        "msno.heatmap(TEST)"
      ],
      "execution_count": null,
      "outputs": []
    },
    {
      "cell_type": "code",
      "metadata": {
        "id": "OTtGgt8bnHZm"
      },
      "source": [
        "train[train['electrical'].isnull()] # rare case of having a null value and it is only one so dropped.\n",
        "train = train.dropna(axis = 0, subset = ['electrical'])"
      ],
      "execution_count": null,
      "outputs": []
    },
    {
      "cell_type": "code",
      "metadata": {
        "id": "sCx4xxPk007-"
      },
      "source": [
        "# train[numcol].info() # to see information of only some columns"
      ],
      "execution_count": null,
      "outputs": []
    },
    {
      "cell_type": "code",
      "metadata": {
        "id": "Skh-8mdNAaI3"
      },
      "source": [
        "# train[train['bsmtcond'].notnull()].shape"
      ],
      "execution_count": null,
      "outputs": []
    },
    {
      "cell_type": "code",
      "metadata": {
        "id": "1UdzzAFALqKL"
      },
      "source": [
        "# pd.pivot_table(train, index = 'masvnrtype', values = 'masvnrarea', aggfunc = 'mean')"
      ],
      "execution_count": null,
      "outputs": []
    },
    {
      "cell_type": "code",
      "metadata": {
        "id": "YE0nC0TbNFS2"
      },
      "source": [
        "# TEST['mszoning'].value_counts(dropna = False)"
      ],
      "execution_count": null,
      "outputs": []
    },
    {
      "cell_type": "code",
      "metadata": {
        "id": "r_24qS9ENhL3"
      },
      "source": [
        "# TEST.info()"
      ],
      "execution_count": null,
      "outputs": []
    },
    {
      "cell_type": "code",
      "metadata": {
        "id": "jwS95B52PDmT"
      },
      "source": [
        "# TEST[TEST['mszoning'].isnull()]"
      ],
      "execution_count": null,
      "outputs": []
    },
    {
      "cell_type": "code",
      "metadata": {
        "id": "KdwRsvRgQteb"
      },
      "source": [
        "# TEST[TEST['utilities'].isnull()]"
      ],
      "execution_count": null,
      "outputs": []
    },
    {
      "cell_type": "code",
      "metadata": {
        "id": "C8gc3CceQ22e"
      },
      "source": [
        "# TEST['utilities'].value_counts(dropna = False)"
      ],
      "execution_count": null,
      "outputs": []
    },
    {
      "cell_type": "code",
      "metadata": {
        "id": "CP4K2fClSnX1"
      },
      "source": [
        "# train['exterior1st'].value_counts(dropna= False)"
      ],
      "execution_count": null,
      "outputs": []
    },
    {
      "cell_type": "code",
      "metadata": {
        "id": "hn9DZtlXSDV-"
      },
      "source": [
        "# TEST['exterior1st'].value_counts(dropna= False)"
      ],
      "execution_count": null,
      "outputs": []
    },
    {
      "cell_type": "code",
      "metadata": {
        "id": "04XZL1qkTego"
      },
      "source": [
        "# TEST['bsmtfinsf1'].value_counts(dropna = False)"
      ],
      "execution_count": null,
      "outputs": []
    },
    {
      "cell_type": "code",
      "metadata": {
        "id": "nIwExn8i9tLJ",
        "outputId": "d00c4db2-8d73-4e63-e7f5-759d3891d6b5",
        "colab": {
          "base_uri": "https://localhost:8080/",
          "height": 34
        }
      },
      "source": [
        "def null_in_numcol(df, cols):\n",
        "    df[cols] = df[cols].fillna(0)\n",
        "    return df\n",
        "\n",
        "def fillnull_with_nothing(df, cols):           # it fills nun values with 'nothing' only in object dtypes. It is not replacement.\n",
        "    df[cols] = df[cols].fillna('nothing')\n",
        "    return df\n",
        "\n",
        "def fillnull_with_0(df, cols):\n",
        "    df[cols] = df[cols].fillna(0)\n",
        "    return df\n",
        "\n",
        "cols_with_null_nothing = ['alley', 'masvnrtype', 'bsmtqual', 'bsmtcond', 'bsmtexposure',\n",
        "                            'bsmtfintype1',  'bsmtfintype2','fireplacequ', \n",
        "                            'garagetype', 'garagefinish', 'garagequal',\n",
        "                           'garagecond', 'poolqc', 'fence','miscfeature']\n",
        "        \n",
        "cols_with_null_0 = ['garageyrblt']\n",
        "\n",
        "train = null_in_numcol(train, ['lotfrontage', 'masvnrarea'])\n",
        "TEST = null_in_numcol(TEST, ['lotfrontage', 'masvnrarea'])\n",
        "\n",
        "train = fillnull_with_nothing(train, cols_with_null_nothing)\n",
        "TEST = fillnull_with_nothing(TEST, cols_with_null_nothing)\n",
        "\n",
        "train = fillnull_with_0(train, cols_with_null_0)\n",
        "TEST = fillnull_with_0(TEST, cols_with_null_0)\n",
        "\n",
        "TEST['utilities'] = TEST['utilities'].fillna('allpub')\n",
        "TEST[['exterior1st', 'exterior2nd']] = TEST[['exterior1st', 'exterior2nd']].fillna('other')\n",
        "\n",
        "TEST[['bsmtfinsf1', 'bsmtfinsf2',\n",
        "      'bsmtunfsf', 'totalbsmtsf']] = TEST[['bsmtfinsf1', 'bsmtfinsf2',\n",
        "                                           'bsmtunfsf', 'totalbsmtsf']].fillna(0)  \n",
        "\n",
        "TEST[['bsmtfullbath', 'bsmthalfbath',\n",
        "      'garagecars', 'garagearea']] = TEST[['bsmtfullbath', 'bsmthalfbath', 'garagecars',\n",
        "                                           'garagearea']].fillna(0)\n",
        "                                \n",
        "TEST['kitchenqual'] = TEST['kitchenqual'].fillna('ta')\n",
        "TEST['functional'] = TEST['functional'].fillna('typ')\n",
        "TEST['saletype'] = TEST['saletype'].fillna('wd')\n",
        "\n",
        "mode = TEST['mszoning'].mode()\n",
        "# print(mode) #mode is rl\n",
        "TEST['mszoning'] = TEST['mszoning'].fillna('rl')\n",
        "print('All missing values filled!')"
      ],
      "execution_count": null,
      "outputs": [
        {
          "output_type": "stream",
          "text": [
            "All missing values filled!\n"
          ],
          "name": "stdout"
        }
      ]
    },
    {
      "cell_type": "code",
      "metadata": {
        "id": "TplgcCBUqGd_",
        "outputId": "1978172b-9960-4daa-dca7-d4c953479d71",
        "colab": {
          "base_uri": "https://localhost:8080/",
          "height": 69
        }
      },
      "source": [
        "trainNull = train[train.isnull().any(axis = 1)] # no missing values in train set.\n",
        "trainNull"
      ],
      "execution_count": null,
      "outputs": [
        {
          "output_type": "execute_result",
          "data": {
            "text/html": [
              "<div>\n",
              "<style scoped>\n",
              "    .dataframe tbody tr th:only-of-type {\n",
              "        vertical-align: middle;\n",
              "    }\n",
              "\n",
              "    .dataframe tbody tr th {\n",
              "        vertical-align: top;\n",
              "    }\n",
              "\n",
              "    .dataframe thead th {\n",
              "        text-align: right;\n",
              "    }\n",
              "</style>\n",
              "<table border=\"1\" class=\"dataframe\">\n",
              "  <thead>\n",
              "    <tr style=\"text-align: right;\">\n",
              "      <th></th>\n",
              "      <th>mssubclass</th>\n",
              "      <th>mszoning</th>\n",
              "      <th>lotfrontage</th>\n",
              "      <th>lotarea</th>\n",
              "      <th>street</th>\n",
              "      <th>alley</th>\n",
              "      <th>lotshape</th>\n",
              "      <th>landcontour</th>\n",
              "      <th>utilities</th>\n",
              "      <th>lotconfig</th>\n",
              "      <th>landslope</th>\n",
              "      <th>neighborhood</th>\n",
              "      <th>condition1</th>\n",
              "      <th>condition2</th>\n",
              "      <th>bldgtype</th>\n",
              "      <th>housestyle</th>\n",
              "      <th>overallqual</th>\n",
              "      <th>overallcond</th>\n",
              "      <th>yearbuilt</th>\n",
              "      <th>yearremodadd</th>\n",
              "      <th>roofstyle</th>\n",
              "      <th>roofmatl</th>\n",
              "      <th>exterior1st</th>\n",
              "      <th>exterior2nd</th>\n",
              "      <th>masvnrtype</th>\n",
              "      <th>masvnrarea</th>\n",
              "      <th>exterqual</th>\n",
              "      <th>extercond</th>\n",
              "      <th>foundation</th>\n",
              "      <th>bsmtqual</th>\n",
              "      <th>bsmtcond</th>\n",
              "      <th>bsmtexposure</th>\n",
              "      <th>bsmtfintype1</th>\n",
              "      <th>bsmtfinsf1</th>\n",
              "      <th>bsmtfintype2</th>\n",
              "      <th>bsmtfinsf2</th>\n",
              "      <th>bsmtunfsf</th>\n",
              "      <th>totalbsmtsf</th>\n",
              "      <th>heating</th>\n",
              "      <th>heatingqc</th>\n",
              "      <th>centralair</th>\n",
              "      <th>electrical</th>\n",
              "      <th>1stflrsf</th>\n",
              "      <th>2ndflrsf</th>\n",
              "      <th>lowqualfinsf</th>\n",
              "      <th>grlivarea</th>\n",
              "      <th>bsmtfullbath</th>\n",
              "      <th>bsmthalfbath</th>\n",
              "      <th>fullbath</th>\n",
              "      <th>halfbath</th>\n",
              "      <th>bedroomabvgr</th>\n",
              "      <th>kitchenabvgr</th>\n",
              "      <th>kitchenqual</th>\n",
              "      <th>totrmsabvgrd</th>\n",
              "      <th>functional</th>\n",
              "      <th>fireplaces</th>\n",
              "      <th>fireplacequ</th>\n",
              "      <th>garagetype</th>\n",
              "      <th>garageyrblt</th>\n",
              "      <th>garagefinish</th>\n",
              "      <th>garagecars</th>\n",
              "      <th>garagearea</th>\n",
              "      <th>garagequal</th>\n",
              "      <th>garagecond</th>\n",
              "      <th>paveddrive</th>\n",
              "      <th>wooddecksf</th>\n",
              "      <th>openporchsf</th>\n",
              "      <th>enclosedporch</th>\n",
              "      <th>3ssnporch</th>\n",
              "      <th>screenporch</th>\n",
              "      <th>poolarea</th>\n",
              "      <th>poolqc</th>\n",
              "      <th>fence</th>\n",
              "      <th>miscfeature</th>\n",
              "      <th>miscval</th>\n",
              "      <th>mosold</th>\n",
              "      <th>yrsold</th>\n",
              "      <th>saletype</th>\n",
              "      <th>salecondition</th>\n",
              "      <th>saleprice</th>\n",
              "    </tr>\n",
              "  </thead>\n",
              "  <tbody>\n",
              "  </tbody>\n",
              "</table>\n",
              "</div>"
            ],
            "text/plain": [
              "Empty DataFrame\n",
              "Columns: [mssubclass, mszoning, lotfrontage, lotarea, street, alley, lotshape, landcontour, utilities, lotconfig, landslope, neighborhood, condition1, condition2, bldgtype, housestyle, overallqual, overallcond, yearbuilt, yearremodadd, roofstyle, roofmatl, exterior1st, exterior2nd, masvnrtype, masvnrarea, exterqual, extercond, foundation, bsmtqual, bsmtcond, bsmtexposure, bsmtfintype1, bsmtfinsf1, bsmtfintype2, bsmtfinsf2, bsmtunfsf, totalbsmtsf, heating, heatingqc, centralair, electrical, 1stflrsf, 2ndflrsf, lowqualfinsf, grlivarea, bsmtfullbath, bsmthalfbath, fullbath, halfbath, bedroomabvgr, kitchenabvgr, kitchenqual, totrmsabvgrd, functional, fireplaces, fireplacequ, garagetype, garageyrblt, garagefinish, garagecars, garagearea, garagequal, garagecond, paveddrive, wooddecksf, openporchsf, enclosedporch, 3ssnporch, screenporch, poolarea, poolqc, fence, miscfeature, miscval, mosold, yrsold, saletype, salecondition, saleprice]\n",
              "Index: []"
            ]
          },
          "metadata": {
            "tags": []
          },
          "execution_count": 11
        }
      ]
    },
    {
      "cell_type": "code",
      "metadata": {
        "id": "k2K0xLeUNGCC",
        "outputId": "0576c8de-2c96-4f17-efe5-143d010dcff2",
        "colab": {
          "base_uri": "https://localhost:8080/",
          "height": 69
        }
      },
      "source": [
        "TEST[TEST.isnull().any(axis=1)] # no missing values in test set."
      ],
      "execution_count": null,
      "outputs": [
        {
          "output_type": "execute_result",
          "data": {
            "text/html": [
              "<div>\n",
              "<style scoped>\n",
              "    .dataframe tbody tr th:only-of-type {\n",
              "        vertical-align: middle;\n",
              "    }\n",
              "\n",
              "    .dataframe tbody tr th {\n",
              "        vertical-align: top;\n",
              "    }\n",
              "\n",
              "    .dataframe thead th {\n",
              "        text-align: right;\n",
              "    }\n",
              "</style>\n",
              "<table border=\"1\" class=\"dataframe\">\n",
              "  <thead>\n",
              "    <tr style=\"text-align: right;\">\n",
              "      <th></th>\n",
              "      <th>mssubclass</th>\n",
              "      <th>mszoning</th>\n",
              "      <th>lotfrontage</th>\n",
              "      <th>lotarea</th>\n",
              "      <th>street</th>\n",
              "      <th>alley</th>\n",
              "      <th>lotshape</th>\n",
              "      <th>landcontour</th>\n",
              "      <th>utilities</th>\n",
              "      <th>lotconfig</th>\n",
              "      <th>landslope</th>\n",
              "      <th>neighborhood</th>\n",
              "      <th>condition1</th>\n",
              "      <th>condition2</th>\n",
              "      <th>bldgtype</th>\n",
              "      <th>housestyle</th>\n",
              "      <th>overallqual</th>\n",
              "      <th>overallcond</th>\n",
              "      <th>yearbuilt</th>\n",
              "      <th>yearremodadd</th>\n",
              "      <th>roofstyle</th>\n",
              "      <th>roofmatl</th>\n",
              "      <th>exterior1st</th>\n",
              "      <th>exterior2nd</th>\n",
              "      <th>masvnrtype</th>\n",
              "      <th>masvnrarea</th>\n",
              "      <th>exterqual</th>\n",
              "      <th>extercond</th>\n",
              "      <th>foundation</th>\n",
              "      <th>bsmtqual</th>\n",
              "      <th>bsmtcond</th>\n",
              "      <th>bsmtexposure</th>\n",
              "      <th>bsmtfintype1</th>\n",
              "      <th>bsmtfinsf1</th>\n",
              "      <th>bsmtfintype2</th>\n",
              "      <th>bsmtfinsf2</th>\n",
              "      <th>bsmtunfsf</th>\n",
              "      <th>totalbsmtsf</th>\n",
              "      <th>heating</th>\n",
              "      <th>heatingqc</th>\n",
              "      <th>centralair</th>\n",
              "      <th>electrical</th>\n",
              "      <th>1stflrsf</th>\n",
              "      <th>2ndflrsf</th>\n",
              "      <th>lowqualfinsf</th>\n",
              "      <th>grlivarea</th>\n",
              "      <th>bsmtfullbath</th>\n",
              "      <th>bsmthalfbath</th>\n",
              "      <th>fullbath</th>\n",
              "      <th>halfbath</th>\n",
              "      <th>bedroomabvgr</th>\n",
              "      <th>kitchenabvgr</th>\n",
              "      <th>kitchenqual</th>\n",
              "      <th>totrmsabvgrd</th>\n",
              "      <th>functional</th>\n",
              "      <th>fireplaces</th>\n",
              "      <th>fireplacequ</th>\n",
              "      <th>garagetype</th>\n",
              "      <th>garageyrblt</th>\n",
              "      <th>garagefinish</th>\n",
              "      <th>garagecars</th>\n",
              "      <th>garagearea</th>\n",
              "      <th>garagequal</th>\n",
              "      <th>garagecond</th>\n",
              "      <th>paveddrive</th>\n",
              "      <th>wooddecksf</th>\n",
              "      <th>openporchsf</th>\n",
              "      <th>enclosedporch</th>\n",
              "      <th>3ssnporch</th>\n",
              "      <th>screenporch</th>\n",
              "      <th>poolarea</th>\n",
              "      <th>poolqc</th>\n",
              "      <th>fence</th>\n",
              "      <th>miscfeature</th>\n",
              "      <th>miscval</th>\n",
              "      <th>mosold</th>\n",
              "      <th>yrsold</th>\n",
              "      <th>saletype</th>\n",
              "      <th>salecondition</th>\n",
              "    </tr>\n",
              "  </thead>\n",
              "  <tbody>\n",
              "  </tbody>\n",
              "</table>\n",
              "</div>"
            ],
            "text/plain": [
              "Empty DataFrame\n",
              "Columns: [mssubclass, mszoning, lotfrontage, lotarea, street, alley, lotshape, landcontour, utilities, lotconfig, landslope, neighborhood, condition1, condition2, bldgtype, housestyle, overallqual, overallcond, yearbuilt, yearremodadd, roofstyle, roofmatl, exterior1st, exterior2nd, masvnrtype, masvnrarea, exterqual, extercond, foundation, bsmtqual, bsmtcond, bsmtexposure, bsmtfintype1, bsmtfinsf1, bsmtfintype2, bsmtfinsf2, bsmtunfsf, totalbsmtsf, heating, heatingqc, centralair, electrical, 1stflrsf, 2ndflrsf, lowqualfinsf, grlivarea, bsmtfullbath, bsmthalfbath, fullbath, halfbath, bedroomabvgr, kitchenabvgr, kitchenqual, totrmsabvgrd, functional, fireplaces, fireplacequ, garagetype, garageyrblt, garagefinish, garagecars, garagearea, garagequal, garagecond, paveddrive, wooddecksf, openporchsf, enclosedporch, 3ssnporch, screenporch, poolarea, poolqc, fence, miscfeature, miscval, mosold, yrsold, saletype, salecondition]\n",
              "Index: []"
            ]
          },
          "metadata": {
            "tags": []
          },
          "execution_count": 12
        }
      ]
    },
    {
      "cell_type": "markdown",
      "metadata": {
        "id": "Iwhg9sCfQMDA"
      },
      "source": [
        "# EDA"
      ]
    },
    {
      "cell_type": "markdown",
      "metadata": {
        "id": "2SZZnC3yMpTm"
      },
      "source": [
        "## Another way of dividing columns into cat and num."
      ]
    },
    {
      "cell_type": "code",
      "metadata": {
        "id": "2HqYQC5aXjg3"
      },
      "source": [
        "'''\n",
        "catcolumn = []\n",
        "numcolumn = []\n",
        "bincolumn = []\n",
        "for col in train.columns:\n",
        "    if train[col].nunique() == 2:\n",
        "        bincolumn.append(col)\n",
        "    elif train[col].nunique() > 26:\n",
        "        numcolumn.append(col)\n",
        "    else:\n",
        "        catcolumn.append(col)\n",
        "\n",
        "print(f'categorical: {len(catcolumn)}')\n",
        "print(f'numerical: {len(numcolumn)}')\n",
        "print(f'binary: {len(bincolumn)}')\n",
        "print('\\n')\n",
        "\n",
        "\n",
        "\n",
        "TESTcatcolumn = []\n",
        "TESTnumcolumn = []\n",
        "TESTbincolumn = []\n",
        "for col in TEST.columns:\n",
        "    if TEST[col].nunique() == 2:\n",
        "        TESTbincolumn.append(col)\n",
        "    elif TEST[col].nunique() > 26:\n",
        "        TESTnumcolumn.append(col)\n",
        "    else:\n",
        "        TESTcatcolumn.append(col)\n",
        "\n",
        "print(f'TEST-categorical: {len(TESTcatcolumn)}')\n",
        "print(f'TEST-numerical: {len(TESTnumcolumn)}')\n",
        "print(f'TEST-binary: {len(TESTbincolumn)}')\n",
        "'''"
      ],
      "execution_count": null,
      "outputs": []
    },
    {
      "cell_type": "markdown",
      "metadata": {
        "id": "hK7PrDY7neSi"
      },
      "source": [
        "## eda"
      ]
    },
    {
      "cell_type": "code",
      "metadata": {
        "id": "w5YU7xV-Yw1F"
      },
      "source": [
        "# train['garageyrblt'].value_counts(dropna = False)"
      ],
      "execution_count": null,
      "outputs": []
    },
    {
      "cell_type": "code",
      "metadata": {
        "id": "J2WhjXJ9W_pj"
      },
      "source": [
        "# for col in catcol:\n",
        "#     print(train[col].value_counts())\n",
        "#     print('\\n')"
      ],
      "execution_count": null,
      "outputs": []
    },
    {
      "cell_type": "code",
      "metadata": {
        "id": "qJeSiYzBexeO"
      },
      "source": [
        "def replacement(df): #since none and no means that they don't consist that material.\n",
        "    df['masvnrtype'] = df['masvnrtype'].replace('none','nothing')\n",
        "    df['bsmtexposure'] = df['bsmtexposure'].replace('no', 'nothing')\n",
        "    return df\n",
        "\n",
        "train = replacement(train)\n",
        "TEST = replacement(TEST)"
      ],
      "execution_count": null,
      "outputs": []
    },
    {
      "cell_type": "code",
      "metadata": {
        "id": "bPVo2D_vd3Ua"
      },
      "source": [
        "# a = train.T.iloc[:, :4]\n",
        "# a"
      ],
      "execution_count": null,
      "outputs": []
    },
    {
      "cell_type": "code",
      "metadata": {
        "id": "z4ScHzRVe4Ap"
      },
      "source": [
        "# for col in a.columns:\n",
        "\n",
        "#     nothing = a[col].str.count('nothing').sum()\n",
        "#     print(nothing)\n",
        "\n",
        "#     zero =  a.loc[a[col] == 0, col].count()\n",
        "#     print(zero)\n",
        "#     print(nothing + zero)"
      ],
      "execution_count": null,
      "outputs": []
    },
    {
      "cell_type": "code",
      "metadata": {
        "id": "Pe_xBjXjKvnc"
      },
      "source": [
        "def addcol(df): # new column consisting no of 'nothing' and no of zero in each row/house\n",
        "    x = df.T\n",
        "    y = []\n",
        "    for col in x.columns:\n",
        "        a = x[col].str.count('nothing').sum()\n",
        "        b = x.loc[x[col] == 0, col].count()\n",
        "        z = a + b\n",
        "        y.append(z)\n",
        "    df.insert(79, 'no_of_nothing', y)\n",
        "    # df['no_of_nothing'] = y\n",
        "    return df\n",
        "\n",
        "\n",
        "train = addcol(train)\n",
        "TEST = addcol(TEST)\n",
        "\n",
        "ordinalcol.append('no_of_nothing')"
      ],
      "execution_count": null,
      "outputs": []
    },
    {
      "cell_type": "code",
      "metadata": {
        "id": "6mBXIzfA9o0R"
      },
      "source": [
        "def plot_hist_of_all_columns_of_df(df, lst_of_cat_col):\n",
        "    \n",
        "    fig = plt.figure(figsize = (25, 15 * len(lst_of_cat_col)))\n",
        "\n",
        "    axes = fig.subplots(len(lst_of_cat_col), 1)\n",
        "    axes = axes.ravel()\n",
        "    for ax, col in zip(axes, lst_of_cat_col):\n",
        "        ax.hist(df[col])\n",
        "        ax.set_title(col)\n",
        "        plt.xticks(fontsize=14, rotation= 45)\n",
        "        \n",
        "    \n",
        "plot_hist_of_all_columns_of_df(TEST, catcol)"
      ],
      "execution_count": null,
      "outputs": []
    },
    {
      "cell_type": "code",
      "metadata": {
        "id": "nR9XkjYih0Ga"
      },
      "source": [
        "def plot_train_test_parallel(train, TEST, columns):\n",
        "    figure = plt.figure(figsize = (25, 15 * len(columns)))\n",
        "    axes = figure.subplots(len(columns), 2)\n",
        "    for axes_row, col in zip(axes, columns):\n",
        "        column = col\n",
        "        for i, axes_col in enumerate(axes_row):\n",
        "            if i % 2 == 0:\n",
        "                axes_col.hist(train[column])\n",
        "                axes_col.set_title(f'train:{column}')\n",
        "            else:\n",
        "                axes_col.hist(TEST[column])\n",
        "                axes_col.set_title(f'TEST:{column}')\n",
        "\n",
        "\n",
        "plot_train_test_parallel(train, TEST, catcol[:3])"
      ],
      "execution_count": null,
      "outputs": []
    },
    {
      "cell_type": "code",
      "metadata": {
        "id": "i7Yk82pf_aGD"
      },
      "source": [
        "def trail_plot_train_test_parallel(train, TEST, columns):\n",
        "    # sns.set('dark')\n",
        "    figure = plt.figure(figsize = (25, 15 * len(columns)))\n",
        "    axes = figure.subplots(len(columns), 1)\n",
        "    for ax, col in zip(axes, columns):\n",
        "        ax.hist(train[col], label = 'train')\n",
        "        ax.hist(TEST[col], label = 'TEST', alpha = 0.4)\n",
        "        ax.set_title(col)\n",
        "        ax.legend()\n",
        "\n",
        "trail_plot_train_test_parallel(train, TEST, numcol)\n",
        "#tomorrow work on sharex and sharey."
      ],
      "execution_count": null,
      "outputs": []
    },
    {
      "cell_type": "code",
      "metadata": {
        "id": "nsYqKQVMhz9n"
      },
      "source": [
        ""
      ],
      "execution_count": null,
      "outputs": []
    },
    {
      "cell_type": "code",
      "metadata": {
        "id": "HkqFCaihhz2T"
      },
      "source": [
        ""
      ],
      "execution_count": null,
      "outputs": []
    },
    {
      "cell_type": "markdown",
      "metadata": {
        "id": "F2SfCQZ0qy8P"
      },
      "source": [
        "pivot table and cross tab can be used for comparing columns with each other"
      ]
    },
    {
      "cell_type": "code",
      "metadata": {
        "id": "vYwl8dtipILR"
      },
      "source": [
        "rel_bw_no_of_nothing_and_saleprice = pd.pivot_table(data = train, values = 'saleprice', index = 'no_of_nothing')\n",
        "rel_bw_no_of_nothing_and_saleprice"
      ],
      "execution_count": null,
      "outputs": []
    },
    {
      "cell_type": "code",
      "metadata": {
        "id": "a3DcWLYfqZlz"
      },
      "source": [
        "rel_bw_no_of_nothing_and_saleprice.plot(kind = 'barh', figsize = (24, 10))"
      ],
      "execution_count": null,
      "outputs": []
    },
    {
      "cell_type": "code",
      "metadata": {
        "id": "X2ZosLrWDcvB"
      },
      "source": [
        "rel_bw_subclass_saleprice = pd.pivot_table(data = train, index = 'mssubclass', values = 'saleprice')\n",
        "\n",
        "rel_bw_subclass_saleprice"
      ],
      "execution_count": null,
      "outputs": []
    },
    {
      "cell_type": "code",
      "metadata": {
        "id": "TApj45HIFxoL"
      },
      "source": [
        "rel_bw_subclass_saleprice.plot(kind = 'barh')#, figsize = (20, 10))"
      ],
      "execution_count": null,
      "outputs": []
    },
    {
      "cell_type": "code",
      "metadata": {
        "id": "pe4g56hrRfDP"
      },
      "source": [
        "rel_bw_mszoning_saleprice = pd.pivot_table(data = train, index = 'mszoning',\n",
        "                                           values = 'saleprice').sort_values(by = 'saleprice')\n",
        "rel_bw_mszoning_saleprice"
      ],
      "execution_count": null,
      "outputs": []
    },
    {
      "cell_type": "code",
      "metadata": {
        "id": "z2F9GdvNUDq5"
      },
      "source": [
        "rel_bw_mszoning_saleprice.plot(kind = 'bar')  # figsize = (15, 10))"
      ],
      "execution_count": null,
      "outputs": []
    },
    {
      "cell_type": "code",
      "metadata": {
        "id": "fTbHTUy7Uywv"
      },
      "source": [
        "rel = pd.pivot_table(data = train, index = ['mszoning'],\n",
        "                                           values = ['saleprice'], columns = 'mssubclass', aggfunc = 'max')\n",
        "rel"
      ],
      "execution_count": null,
      "outputs": []
    },
    {
      "cell_type": "code",
      "metadata": {
        "id": "c9hi062aV71a"
      },
      "source": [
        "rel.plot(kind = 'bar', title = 'relation between mssubclass, mszonig and saleprice')\n",
        "#plt.tick_params(axis='both', which='major', labelsize=10)\n"
      ],
      "execution_count": null,
      "outputs": []
    },
    {
      "cell_type": "code",
      "metadata": {
        "id": "R6Lk4FIufp2a"
      },
      "source": [
        ""
      ],
      "execution_count": null,
      "outputs": []
    },
    {
      "cell_type": "code",
      "metadata": {
        "id": "LjKZ7EZFpD2G"
      },
      "source": [
        ""
      ],
      "execution_count": null,
      "outputs": []
    },
    {
      "cell_type": "code",
      "metadata": {
        "id": "P50P6RN3lbCD"
      },
      "source": [
        ""
      ],
      "execution_count": null,
      "outputs": []
    },
    {
      "cell_type": "markdown",
      "metadata": {
        "id": "hw4J_DzlS_0e"
      },
      "source": [
        "## Dividing train into X and y."
      ]
    },
    {
      "cell_type": "code",
      "metadata": {
        "id": "ALSkfMIlIRLH"
      },
      "source": [
        "train_new = train.copy()\n",
        "test_new = TEST.copy()"
      ],
      "execution_count": null,
      "outputs": []
    },
    {
      "cell_type": "code",
      "metadata": {
        "id": "ZJruPDA9TFYY",
        "outputId": "49175785-0a72-4aa8-eafb-78d677b5eb0c",
        "colab": {
          "base_uri": "https://localhost:8080/",
          "height": 51
        }
      },
      "source": [
        "X, y = train_new.drop(columns = 'saleprice'), train_new['saleprice']\n",
        "print(X.shape)\n",
        "print(y.shape)"
      ],
      "execution_count": null,
      "outputs": [
        {
          "output_type": "stream",
          "text": [
            "(1459, 80)\n",
            "(1459,)\n"
          ],
          "name": "stdout"
        }
      ]
    },
    {
      "cell_type": "code",
      "metadata": {
        "id": "fSaqcA8hUEPJ",
        "outputId": "5ac1462d-49fc-47bb-904f-16d74a95b048",
        "colab": {
          "base_uri": "https://localhost:8080/",
          "height": 51
        }
      },
      "source": [
        "print(train_new.shape)\n",
        "print(TEST.shape)"
      ],
      "execution_count": null,
      "outputs": [
        {
          "output_type": "stream",
          "text": [
            "(1459, 81)\n",
            "(1459, 80)\n"
          ],
          "name": "stdout"
        }
      ]
    },
    {
      "cell_type": "markdown",
      "metadata": {
        "id": "2gw4sBfaSqGG"
      },
      "source": [
        "## Encoding"
      ]
    },
    {
      "cell_type": "code",
      "metadata": {
        "id": "mpozaiCLStaF"
      },
      "source": [
        "import sklearn\n",
        "from sklearn.model_selection import train_test_split, GridSearchCV\n",
        "from sklearn.pipeline import Pipeline\n",
        "from sklearn.linear_model import LinearRegression\n",
        "from sklearn.preprocessing import OneHotEncoder,  OrdinalEncoder\n",
        "from sklearn.compose import ColumnTransformer\n",
        "from sklearn.metrics import mean_squared_error\n",
        "np.random.seed(0)"
      ],
      "execution_count": null,
      "outputs": []
    },
    {
      "cell_type": "code",
      "metadata": {
        "id": "wdn7xCDDWqF4"
      },
      "source": [
        "# custom ordinal encoder since the sklearn ordinal encoder does not have ignore argument.\n",
        "\n",
        "from sklearn.preprocessing._encoders import _BaseEncoder\n",
        "class new_OrdinalEncoder(_BaseEncoder):\n",
        "    def __init__(self,cat_index='all'):\n",
        "        self.dicts={}\n",
        "        # cate_index is the categorical feature index list\n",
        "        self.cat_index=cat_index\n",
        "     \n",
        "    def fit(self,df,*y):\n",
        "        if self.cat_index=='all':\n",
        "            self.cat_index=list(range(df.shape[1]))\n",
        "        for feat in self.cat_index:\n",
        "            dic=np.unique(df.iloc[:,feat])\n",
        "            dic=dict([(i,index) for index, i in enumerate(dic)])\n",
        "            self.dicts[feat]=dic\n",
        "             \n",
        "    def fit_transform(self,df,*y):\n",
        "        if self.cat_index=='all':\n",
        "            self.cat_index=list(range(df.shape[1]))\n",
        "        df_output=df.copy()\n",
        "        for feat in self.cat_index:\n",
        "            dic=np.unique(df.iloc[:,feat])\n",
        "            dic=dict([(i,index) for index, i in enumerate(dic)])\n",
        "            self.dicts[feat]=dic\n",
        "            df_output.iloc[:,feat]=df.iloc[:,feat].apply(lambda x: dic[x])\n",
        "        return df_output\n",
        "         \n",
        "    def transform(self,df):\n",
        "        df_output=df.copy()\n",
        "        for feat in self.cat_index:\n",
        "            dic=self.dicts[feat]\n",
        "            df_output.iloc[:,feat]=df.iloc[:,feat].apply(self.unknown_value,args=(dic,))\n",
        "        return df_output\n",
        "     \n",
        "    def unknown_value(self,value,dic): # It will set up a new interger for unknown values!\n",
        "        try:\n",
        "            return dic[value]\n",
        "        except:\n",
        "            return len(dic)"
      ],
      "execution_count": null,
      "outputs": []
    },
    {
      "cell_type": "code",
      "metadata": {
        "id": "Qy4twc9Np76K",
        "outputId": "07e9fc0d-eac4-4a06-e28d-07ad224a42b8",
        "colab": {
          "base_uri": "https://localhost:8080/",
          "height": 88
        }
      },
      "source": [
        "nominal_ix = []\n",
        "ordinal_ix = []\n",
        "\n",
        "def get_index(df, columns, list_to_store):\n",
        "    for col in columns:\n",
        "        list_to_store.append(df.columns.get_loc(col))\n",
        "\n",
        "get_index(train_new, nominalcol, nominal_ix)\n",
        "get_index(train_new, ordinalcol, ordinal_ix)\n",
        "print(nominal_ix)\n",
        "print('============================================')\n",
        "print(ordinal_ix)"
      ],
      "execution_count": null,
      "outputs": [
        {
          "output_type": "stream",
          "text": [
            "[6, 8, 18, 7, 9, 10, 11, 12, 13, 19, 20, 21, 22, 23, 24, 28, 38, 41, 54, 57, 58, 64, 73, 77, 78, 75, 76]\n",
            "============================================\n",
            "[0, 1, 4, 5, 14, 15, 16, 17, 26, 27, 29, 30, 31, 32, 34, 39, 40, 52, 56, 59, 62, 63, 71, 72, 46, 47, 48, 49, 50, 51, 53, 55, 60, 79]\n"
          ],
          "name": "stdout"
        }
      ]
    },
    {
      "cell_type": "markdown",
      "metadata": {
        "id": "tJyO1YTX2uQZ"
      },
      "source": [
        "The dataset consist of two different types of data i.e numerical(it does not mean it is represented by number but it should be continous) and categorical(it might be both represented by string or number but it should be categorical in nature).\n",
        "\n",
        "For numeric features presently I have not applied any preprocessing. The categorical features can be further divided into two types ie, nominal and ordinal data. For nominal data OneHotEncoder is used and for ordinal data OrdinalEncoder is used(custom).\n",
        "\n",
        "For modelling LinearRegression is used."
      ]
    },
    {
      "cell_type": "code",
      "metadata": {
        "id": "-M7YubQo5H7-"
      },
      "source": [
        "# Pipeline for numeric features:\n",
        "# numeric_transformer = Pipeline(steps = [\n",
        "#                                         ('name_of_transformation', function),\n",
        "#                                         ('name_of_transformation', function)\n",
        "# ])"
      ],
      "execution_count": null,
      "outputs": []
    },
    {
      "cell_type": "code",
      "metadata": {
        "id": "GiZtfHnd6Jek"
      },
      "source": [
        "# # Pipeline for categorical features:\n",
        "# nominal_transformer = \n",
        "# categorical_transformer = Pipeline(steps = [\n",
        "#                                             ()\n",
        "# ])"
      ],
      "execution_count": null,
      "outputs": []
    },
    {
      "cell_type": "code",
      "metadata": {
        "id": "7TmPq5wU4dTh"
      },
      "source": [
        "# preprocessor = ColumnTransformer(transformers= [\n",
        "#                                 ('nominal', , numerical_columns),\n",
        "#                                 ('categorical', categorical_transformer, catcol)\n",
        "# ])"
      ],
      "execution_count": null,
      "outputs": []
    },
    {
      "cell_type": "code",
      "metadata": {
        "id": "7lH0SNqSrnvr"
      },
      "source": [
        "t = [('nominal', OneHotEncoder(handle_unknown= 'ignore', sparse = False), nominal_ix),\n",
        "     ('ordinal', new_OrdinalEncoder(), ordinal_ix)]\n",
        "col_transform = ColumnTransformer(transformers=t, remainder = 'passthrough')\n",
        "# col_transform.fit(X)\n",
        "# train_new = pd.DataFrame(col_transform.transform(train_new))\n",
        "# test_new = pd.DataFrame(col_transform.transform(test_new))\n",
        "\n",
        "reg = Pipeline(steps = [('preprocessor', col_transform), ('regressor', LinearRegression())])"
      ],
      "execution_count": null,
      "outputs": []
    },
    {
      "cell_type": "code",
      "metadata": {
        "id": "bcSE4A5d0Y0G"
      },
      "source": [
        "X_train, X_test, y_train, y_test = train_test_split(X, y, test_size = 0.25)"
      ],
      "execution_count": null,
      "outputs": []
    },
    {
      "cell_type": "code",
      "metadata": {
        "id": "k9R3EgJ30rFW",
        "outputId": "3688b90d-47ea-4979-8999-9d451988f806",
        "colab": {
          "base_uri": "https://localhost:8080/",
          "height": 476
        }
      },
      "source": [
        "reg.fit(X_train, y_train)"
      ],
      "execution_count": null,
      "outputs": [
        {
          "output_type": "execute_result",
          "data": {
            "text/plain": [
              "Pipeline(memory=None,\n",
              "         steps=[('preprocessor',\n",
              "                 ColumnTransformer(n_jobs=None, remainder='passthrough',\n",
              "                                   sparse_threshold=0.3,\n",
              "                                   transformer_weights=None,\n",
              "                                   transformers=[('nominal',\n",
              "                                                  OneHotEncoder(categories='auto',\n",
              "                                                                drop=None,\n",
              "                                                                dtype=<class 'numpy.float64'>,\n",
              "                                                                handle_unknown='ignore',\n",
              "                                                                sparse=False),\n",
              "                                                  [6, 8, 18, 7, 9, 10, 11, 12,\n",
              "                                                   13, 19, 20, 21, 22, 23, 24,\n",
              "                                                   28, 38, 41, 54, 57, 58, 64,\n",
              "                                                   73, 77, 78, 75, 76]),\n",
              "                                                 ('ordinal',\n",
              "                                                  new_OrdinalEncoder(cat_index='all'),\n",
              "                                                  [0, 1, 4, 5, 14, 15, 16, 17,\n",
              "                                                   26, 27, 29, 30, 31, 32, 34,\n",
              "                                                   39, 40, 52, 56, 59, 62, 63,\n",
              "                                                   71, 72, 46, 47, 48, 49, 50,\n",
              "                                                   51, ...])],\n",
              "                                   verbose=False)),\n",
              "                ('regressor',\n",
              "                 LinearRegression(copy_X=True, fit_intercept=True, n_jobs=None,\n",
              "                                  normalize=False))],\n",
              "         verbose=False)"
            ]
          },
          "metadata": {
            "tags": []
          },
          "execution_count": 24
        }
      ]
    },
    {
      "cell_type": "code",
      "metadata": {
        "id": "DmiIT4BQt0xN",
        "outputId": "614ae1c0-e57b-45c4-a31b-9f2e88876bb4",
        "colab": {
          "base_uri": "https://localhost:8080/",
          "height": 34
        }
      },
      "source": [
        "reg.score(X, y)"
      ],
      "execution_count": null,
      "outputs": [
        {
          "output_type": "execute_result",
          "data": {
            "text/plain": [
              "0.9999999999995192"
            ]
          },
          "metadata": {
            "tags": []
          },
          "execution_count": 46
        }
      ]
    },
    {
      "cell_type": "code",
      "metadata": {
        "id": "TiveamnGp26O"
      },
      "source": [
        "y_pred = reg.predict(X_test)"
      ],
      "execution_count": null,
      "outputs": []
    },
    {
      "cell_type": "code",
      "metadata": {
        "id": "XSFa-CcqqBrt",
        "outputId": "6be7de9a-78dc-44a4-f3bc-a3f47ce3c4ec",
        "colab": {
          "base_uri": "https://localhost:8080/",
          "height": 34
        }
      },
      "source": [
        "y_pred.shape"
      ],
      "execution_count": null,
      "outputs": [
        {
          "output_type": "execute_result",
          "data": {
            "text/plain": [
              "(365,)"
            ]
          },
          "metadata": {
            "tags": []
          },
          "execution_count": 26
        }
      ]
    },
    {
      "cell_type": "code",
      "metadata": {
        "id": "LZ-PqKGU3COi",
        "outputId": "e463104b-b323-417f-90c4-fc5f67d02a23",
        "colab": {
          "base_uri": "https://localhost:8080/",
          "height": 34
        }
      },
      "source": [
        "mse = mean_squared_error(y_test, y_pred)\n",
        "print(mse)"
      ],
      "execution_count": null,
      "outputs": [
        {
          "output_type": "stream",
          "text": [
            "9.041207659358775e+23\n"
          ],
          "name": "stdout"
        }
      ]
    },
    {
      "cell_type": "code",
      "metadata": {
        "id": "cS_VXilHqGj2",
        "outputId": "f828932c-3433-40f4-abdf-65c630777863",
        "colab": {
          "base_uri": "https://localhost:8080/",
          "height": 34
        }
      },
      "source": [
        "rmse = math.sqrt(mse)\n",
        "print(rmse)"
      ],
      "execution_count": null,
      "outputs": [
        {
          "output_type": "stream",
          "text": [
            "950852652063.335\n"
          ],
          "name": "stdout"
        }
      ]
    },
    {
      "cell_type": "markdown",
      "metadata": {
        "id": "pjCS9Dle7Atx"
      },
      "source": [
        "DataFrame for submission"
      ]
    },
    {
      "cell_type": "code",
      "metadata": {
        "id": "q5uTBouzrPGy"
      },
      "source": [
        "reg.fit(X, y)"
      ],
      "execution_count": null,
      "outputs": []
    },
    {
      "cell_type": "code",
      "metadata": {
        "id": "vz36KKpG6joO"
      },
      "source": [
        "y_pred = reg.predict(test_new)"
      ],
      "execution_count": null,
      "outputs": []
    },
    {
      "cell_type": "code",
      "metadata": {
        "id": "sISm4L6t6yfD",
        "outputId": "e69deaa7-08f2-400a-832b-cbbef6fe3c48",
        "colab": {
          "base_uri": "https://localhost:8080/",
          "height": 34
        }
      },
      "source": [
        "y_pred.shape"
      ],
      "execution_count": null,
      "outputs": [
        {
          "output_type": "execute_result",
          "data": {
            "text/plain": [
              "(1459,)"
            ]
          },
          "metadata": {
            "tags": []
          },
          "execution_count": 37
        }
      ]
    },
    {
      "cell_type": "code",
      "metadata": {
        "id": "8tKYWXrT1WhM"
      },
      "source": [
        "output = pd.DataFrame({'ID' : Id, 'Saleprice' : y_pred})\n",
        "output.to_csv('Submission.csv', index = False)"
      ],
      "execution_count": null,
      "outputs": []
    },
    {
      "cell_type": "markdown",
      "metadata": {
        "id": "oNVJSfFUqlYa"
      },
      "source": [
        "### XGBoost"
      ]
    },
    {
      "cell_type": "code",
      "metadata": {
        "id": "Ih0MdaKaqpxv"
      },
      "source": [
        "import xgboost as xgb"
      ],
      "execution_count": null,
      "outputs": []
    },
    {
      "cell_type": "code",
      "metadata": {
        "id": "3PzkQuNKqvw4"
      },
      "source": [
        "xgb_reg = xgb.XGBRegressor(max_depth= 5, learning_rate = 0.3, n_estimators= 10000)"
      ],
      "execution_count": null,
      "outputs": []
    },
    {
      "cell_type": "code",
      "metadata": {
        "id": "k8tLT1QQtZwA"
      },
      "source": [
        "t = [('nominal', OneHotEncoder(handle_unknown= 'ignore', sparse = False), nominal_ix),\n",
        "     ('ordinal', new_OrdinalEncoder(), ordinal_ix)]\n",
        "col_transform = ColumnTransformer(transformers=t, remainder = 'passthrough')\n",
        "# col_transform.fit(X)\n",
        "# train_new = pd.DataFrame(col_transform.transform(train_new))\n",
        "# test_new = pd.DataFrame(col_transform.transform(test_new))\n",
        "\n",
        "xg = Pipeline(steps = [('preprocessor', col_transform), ('regressor', xgb_reg)])"
      ],
      "execution_count": null,
      "outputs": []
    },
    {
      "cell_type": "code",
      "metadata": {
        "id": "bDHZCmd-rKmT",
        "outputId": "0bafe20b-8431-4601-9f68-1dfe3958e01e",
        "colab": {
          "base_uri": "https://localhost:8080/",
          "height": 479
        }
      },
      "source": [
        "xg.fit(X, y)"
      ],
      "execution_count": null,
      "outputs": [
        {
          "output_type": "stream",
          "text": [
            "[07:05:00] WARNING: /workspace/src/objective/regression_obj.cu:152: reg:linear is now deprecated in favor of reg:squarederror.\n"
          ],
          "name": "stdout"
        },
        {
          "output_type": "execute_result",
          "data": {
            "text/plain": [
              "Pipeline(memory=None,\n",
              "         steps=[('preprocessor',\n",
              "                 ColumnTransformer(n_jobs=None, remainder='passthrough',\n",
              "                                   sparse_threshold=0.3,\n",
              "                                   transformer_weights=None,\n",
              "                                   transformers=[('nominal',\n",
              "                                                  OneHotEncoder(categories='auto',\n",
              "                                                                drop=None,\n",
              "                                                                dtype=<class 'numpy.float64'>,\n",
              "                                                                handle_unknown='ignore',\n",
              "                                                                sparse=False),\n",
              "                                                  [6, 8, 18, 7, 9, 10, 11, 12,\n",
              "                                                   13, 19, 20, 21, 22, 23, 24,\n",
              "                                                   28, 38, 41, 54, 57, 58, 64,\n",
              "                                                   73, 77, 78,...\n",
              "                              colsample_bylevel=1, colsample_bynode=1,\n",
              "                              colsample_bytree=1, gamma=0,\n",
              "                              importance_type='gain', learning_rate=0.3,\n",
              "                              max_delta_step=0, max_depth=5, min_child_weight=1,\n",
              "                              missing=None, n_estimators=10000, n_jobs=1,\n",
              "                              nthread=None, objective='reg:linear',\n",
              "                              random_state=0, reg_alpha=0, reg_lambda=1,\n",
              "                              scale_pos_weight=1, seed=None, silent=None,\n",
              "                              subsample=1, verbosity=1))],\n",
              "         verbose=False)"
            ]
          },
          "metadata": {
            "tags": []
          },
          "execution_count": 49
        }
      ]
    },
    {
      "cell_type": "code",
      "metadata": {
        "id": "t5fnZ3matrvW",
        "outputId": "908d1518-4356-4f7a-8407-417ba3a48939",
        "colab": {
          "base_uri": "https://localhost:8080/",
          "height": 34
        }
      },
      "source": [
        "xg.score(X, y)"
      ],
      "execution_count": null,
      "outputs": [
        {
          "output_type": "execute_result",
          "data": {
            "text/plain": [
              "0.9999999999995192"
            ]
          },
          "metadata": {
            "tags": []
          },
          "execution_count": 50
        }
      ]
    },
    {
      "cell_type": "code",
      "metadata": {
        "id": "l-JHUFZ7u2Kx"
      },
      "source": [
        "y_pred = xg.predict(test_new)"
      ],
      "execution_count": null,
      "outputs": []
    },
    {
      "cell_type": "code",
      "metadata": {
        "id": "NpRZJOGiu82f"
      },
      "source": [
        "output = pd.DataFrame({'ID': Id, 'Saleprice' : y_pred})\n",
        "output.to_csv('XG-Submission.csv', index = False)"
      ],
      "execution_count": null,
      "outputs": []
    }
  ]
}